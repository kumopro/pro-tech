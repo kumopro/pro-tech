{
 "cells": [
  {
   "cell_type": "markdown",
   "metadata": {},
   "source": [
    "### 4-1"
   ]
  },
  {
   "cell_type": "code",
   "execution_count": null,
   "metadata": {
    "collapsed": true
   },
   "outputs": [],
   "source": [
    "import requests\n",
    "import json\n",
    "\n",
    "def print_tomorrow_temp():\n",
    "    url = 'http://weather.livedoor.com/forecast/webservice/json/v1?city=130010'\n",
    "    data = requests.get(url).json()\n",
    "\n",
    "    forecasts = data['forecasts']\n",
    "    tomorrow_forecast = forecasts[1]\n",
    "    temp = tomorrow_forecast['temperature']\n",
    "    min_temp = temp['min']['celsius']\n",
    "    max_temp = temp['max']['celsius']\n",
    "    print(\"明日の最低気温は{}度です\".format(min_temp))\n",
    "    print(\"明日の最高気温は{}度です\".format(max_temp))\n",
    "    \n",
    "def main():    \n",
    "    print_tomorrow_temp()\n",
    "\n",
    "main()"
   ]
  },
  {
   "cell_type": "markdown",
   "metadata": {},
   "source": [
    "### 4-2"
   ]
  },
  {
   "cell_type": "code",
   "execution_count": null,
   "metadata": {
    "collapsed": true
   },
   "outputs": [],
   "source": [
    "import requests\n",
    "import json\n",
    "import wiringpi\n",
    "import time\n",
    "\n",
    "def get_tomorrow_temp_diff():\n",
    "    url = 'http://weather.livedoor.com/forecast/webservice/json/v1?city=130010'\n",
    "    data = requests.get(url).json()\n",
    "\n",
    "    forecasts = data['forecasts']\n",
    "    tomorrow_forecast = forecasts[1]\n",
    "\n",
    "    temp = tomorrow_forecast['temperature']\n",
    "    min_temp = float(temp['min']['celsius'])\n",
    "    max_temp = float(temp['max']['celsius'])\n",
    "\n",
    "    return max_temp - min_temp\n",
    "\n",
    "def main():    \n",
    "    led_pin = 23\n",
    "    wiringpi.wiringPiSetupGpio()\n",
    "    wiringpi.pinMode(led_pin, wiringpi.OUTPUT)\n",
    "\n",
    "    diff = get_tomorrow_temp_diff()\n",
    "\n",
    "    if diff > 8:\n",
    "        print('明日は1日の間に気温差が8度以上あります')\n",
    "        wiringpi.digitalWrite(led_pin, wiringpi.HIGH)\n",
    "        time.sleep(5)\n",
    "        wiringpi.digitalWrite(led_pin, wiringpi.LOW)        \n",
    "\n",
    "main()"
   ]
  }
 ],
 "metadata": {
  "kernelspec": {
   "display_name": "Python 3",
   "language": "python",
   "name": "python3"
  },
  "language_info": {
   "codemirror_mode": {
    "name": "ipython",
    "version": 3
   },
   "file_extension": ".py",
   "mimetype": "text/x-python",
   "name": "python",
   "nbconvert_exporter": "python",
   "pygments_lexer": "ipython3",
   "version": "3.6.4"
  }
 },
 "nbformat": 4,
 "nbformat_minor": 2
}
