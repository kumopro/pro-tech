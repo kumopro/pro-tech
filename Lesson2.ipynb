{
 "cells": [
  {
   "cell_type": "markdown",
   "metadata": {},
   "source": [
    "# 2. 超音波で距離を測ろう\n",
    "## ===== 講師用資料 =====\n",
    "### 6thステージ第2回の目的\n",
    "Pythonのwhile文の書き方と変数の演算方法を学ぶ。\n",
    "\n",
    "### スケジュール\n",
    "|time|section|\n",
    "|:-----------:|:------------|\n",
    "|0:00|1.先週の復習（LED点滅のプログラム、配線）|\n",
    "|0:20|2.ずっと点滅し続けるように改造しよう|\n",
    "|0:30|3.5回点滅したら止めるように改造しよう|\n",
    "|0:45|休憩|\n",
    "|0:50|4.超音波センサで距離を測ろう|\n",
    "|1:40|5.チャレンジ問題|\n",
    "|2:00|終了|\n",
    "\n",
    "### 各セクション詳細\n",
    "#### 1. 先週の復習（20分）\n",
    "- ねらい\n",
    " - 先週のLチカプログラムの配線とプログラムを復習する\n",
    "- 手順\n",
    " 1. Lチカの配線を思い出しながらやってもらう\n",
    " 2. 配線が完了した会員から順次配線チェックを行う\n",
    " 3. 配線チェックを通過した会員にプログラムを書くように促す（コピペ可）\n",
    " 4. Lチカの動作確認が終わったら手を止めて待ってもらう\n",
    "- 注意\n",
    " - プログラムはあまり時間をかけたくないので、コピペ可とする。特に会員のタイピングが遅めの場合にはコピペ推奨。\n",
    "- 事前準備\n",
    " - ラズベリーパイのセットアップ（PCとつなげるようにする）\n",
    "\n",
    "#### 2. ずっと点滅し続けるように改造しよう（10分）\n",
    "- ねらい\n",
    " - whileループで繰り返し動作ができることを学ぶ\n",
    "- 手順\n",
    " 1. 1回しか光らなかったLEDを繰り返し光らせるにはどうすればいいか問いかける\n",
    " 2. whileループというものがあると紹介\n",
    " 3. 実際にwhileループをプログラムに付け足してもらう（コピペしないで直接打つ）\n",
    "- 注意\n",
    " - プログラムのタブ部分はスペース4つでも代用可\n",
    " - プログラムのインデントがズレているとエラーで動かないので注意\n",
    "\n",
    "#### 3. 5回点滅したら止めるように改造しよう（15分）\n",
    "- ねらい\n",
    " - whileループへの条件の書き加え方と比較演算子について学習する\n",
    "- 手順\n",
    " 1. whileループの書き方を工夫すると、指定した回数で点滅を止めることができるということを伝える\n",
    " 2. while文の文法、条件文、比較演算子の説明\n",
    " 3. プログラムを書き換えてもらう（コピペしないで直接打つ）\n",
    " 4. 点滅の回数を変えてもらう\n",
    "- 注意\n",
    " - プログラムのインデントがズレているとエラーで動かないので注意\n",
    "\n",
    "#### 4. 超音波センサで距離を測ろう（50分）\n",
    "- ねらい\n",
    " - 超音波センサで距離を測る\n",
    "- 手順\n",
    " 1. 超音波で距離を測る仕組みの説明（時間と距離の関係）\n",
    " 2. 超音波センサの説明（ピンは2つ使います）\n",
    " 3. ラズパイの電源を落とし、配線してもらう\n",
    " 4. 配線の確認\n",
    " 5. 配線の終わった子は電源を入れてプログラムを写す（なるべくコピペしない）\n",
    "- 注意\n",
    " - プログラムのインデントがズレているとエラーで動かないので注意\n",
    " - タイピングが遅い会員については、様子を見てコピペも検討\n",
    "\n",
    "#### 5. チャレンジ問題（20分）\n",
    "- ねらい\n",
    " - 今日習ったことを応用することで、より深い学習へとつなげる\n",
    "- 手順\n",
    " 1. 「4.超音波センサで距離を測ろう」が終わった会員に対して、自分で練習問題を進めるよう促す\n",
    " 2. 練習問題が終わった会員には、解答を配る\n",
    "- 注意\n",
    " - 配線をする際には電源を落とすように伝える\n",
    "\n",
    "## ===== 生徒用資料 =====\n",
    "\n",
    "### 1. 先週の復習\n",
    "\n",
    "### 2. ずっと点滅し続けるように改造しよう\n",
    "#### LEDを複数回光らせるには？\n",
    "これまでの実習で、LEDを光らせることができるようになりましたが、1回プログラムを実行するごとに、LEDは1回しか光りません。これを2回、3回と光らせるにはどうすればいいでしょうか？\n",
    "\n",
    "同じプログラムをコピーしてつなげていくと、繰り返し光るようになるかもしれません。\n",
    "ただしその場合、たくさん光らせようとすればするほど、プログラムは長くなっていきます。実はこのような繰り返しの処理をするときに便利な方法が存在します。\n",
    "\n",
    "#### whileループで繰り返し処理をしよう\n",
    "**whileループ**を使うと、繰り返し処理をプログラムするのがぐんと楽になります。whileには英語で「〜の間（〜する間）」という意味があります。\n",
    "\n",
    "whileループの詳しい使い方を説明する前に、まずは実際にプログラミングを行って、動作を確認していきましょう。\n",
    "\n",
    "お手本の13行目から16行目は、それより前の行に比べてプログラムの書かれている位置が右にずれています。このズレのことを**インデント**と呼びます。インデントは非常に重要で、正しく記述する必要があります。**TABキー**を押すことで、文章の始まりを右にずらすことができるので、13行目から16行目ではまずはじめにTABキーを押してから文字を打ち始めてください（TABキーは通常、キーボードの**一番左の列**の上の方にあります）。"
   ]
  },
  {
   "cell_type": "code",
   "execution_count": null,
   "metadata": {
    "collapsed": true
   },
   "outputs": [],
   "source": [
    "import wiringpi\n",
    "import time\n",
    "\n",
    "led_pin = 23\n",
    "\n",
    "# settings\n",
    "wiringpi.wiringPiSetupGpio()\n",
    "wiringpi.pinMode(led_pin, wiringpi.OUTPUT)\n",
    "\n",
    "# main\n",
    "print(\"start\")\n",
    "while True:\n",
    "    wiringpi.digitalWrite(led_pin, wiringpi.HIGH)\n",
    "    time.sleep(5)  # [sec]\n",
    "    wiringpi.digitalWrite(led_pin, wiringpi.LOW)\n",
    "    time.sleep(5)  # [sec]\n",
    "print(\"end\")"
   ]
  },
  {
   "cell_type": "markdown",
   "metadata": {},
   "source": [
    "### 3. 5回点滅したら止めるように改造しよう\n",
    "\n",
    "LEDが点滅するプログラムを実行できたでしょうか？\n",
    "\n",
    "実行したプログラムでは、LEDが終わりなくずっと点滅を続けていたと思います。これは`while True:`と書くと、その後に続くインデントがある部分が終わりなく繰り返されるためです。\n",
    "\n",
    "ここから、whileループを書くときの文法について見ていきましょう。"
   ]
  },
  {
   "cell_type": "code",
   "execution_count": null,
   "metadata": {
    "collapsed": true
   },
   "outputs": [],
   "source": [
    "while 条件文:\n",
    "    繰り返し行いたい処理1\n",
    "    繰り返し行いたい処理2\n",
    "    繰り返し行いたい処理3\n",
    "    …"
   ]
  },
  {
   "cell_type": "markdown",
   "metadata": {},
   "source": [
    "まず、whileのあとに「条件文」というものを書きます。そして、次の行からインデントを行い、繰り返し行いたい処理を順番に書いていきます。今回の場合は、「繰り返し行いたい処理」は「LEDを1回光らせて消す」という操作でした。\n",
    "\n",
    "では、`while`の隣に書く「条件文」とはなんでしょうか？\n",
    "\n",
    "#### 条件文とは？\n",
    "\n",
    "**条件文**の具体的な例には、次のようなものが考えられます。\n",
    "\n",
    "- 条件文の例1：数字の10と15を比べた時、15の方が大きい\n",
    "- 条件文の例2：りんごの値段（100円）とオレンジの値段（80円）を比べた時、オレンジの値段の方が大きい\n",
    "- 条件文の例3：私の年齢は15歳より大きい\n",
    "\n",
    "これらの条件文は、正しいでしょうか？それとも正しくないでしょうか？またこの条件文をプログラムするには、どうすればいいでしょうか？\n",
    "\n",
    "試しに、実際にPythonのコンソールを開いて実験してみましょう。\n",
    "\n",
    "#### 数字を比較してみよう\n",
    "まず、条件文の例1を実際にプログラムしてみて動作を確認してみます。\n",
    "今回はファイルにプログラムを書くのではなく、Pythonのコンソールに入力することで、結果を確認します。Pythonのコンソールは、今回のように短いプログラムの動作をすぐに確認したい時に使うと便利です。\n",
    "\n",
    "手順は次のとおりです。\n",
    "\n",
    "1. Pythonのコンソールを開きます\n",
    "2. `>>>`と書いてある隣に`10 < 15`と入力し、enterキーを押します"
   ]
  },
  {
   "cell_type": "code",
   "execution_count": null,
   "metadata": {
    "collapsed": true
   },
   "outputs": [],
   "source": [
    ">>> 10 < 15\n",
    "True"
   ]
  },
  {
   "cell_type": "markdown",
   "metadata": {},
   "source": [
    "`True`という文字列が表示されたでしょうか？\n",
    "\n",
    "では`>>>`のあとに、`10 > 15`と入力すると何が表示されるでしょうか？"
   ]
  },
  {
   "cell_type": "code",
   "execution_count": null,
   "metadata": {
    "collapsed": true
   },
   "outputs": [],
   "source": [
    ">>> 10 < 15\n",
    "False"
   ]
  },
  {
   "cell_type": "markdown",
   "metadata": {},
   "source": [
    "今度は`False`という文字列が表示されました。\n",
    "\n",
    "いまみなさんが入力した`10 < 15`や`10 > 15`が条件文です。`>`や`<`という記号は数学で使うときと同じで、`10 < 15`は「10は15より小さい」、`10 > 15`は「10は15より大きい」という意味になります。\n",
    "\n",
    "今回の例でいうと、10と15を比較する場合には15の方が大きいので、`10 < 15`という条件文は正しく、`10 > 15`は間違いとなります。\n",
    "そしてPythonでは「ある条件文が正しいかそうでないか」を`True`と`False`という2つのキーワードを使って判定します。つまり`10 < 15`と入力する場合、その条件文は正しいので`True`、`10 > 15`は正しくないので`False`という判定がなされるわけです。\n",
    "\n",
    "前述の条件文の例2,3をプログラムする場合、次のようなやり方が考えられます。参考にしてください。"
   ]
  },
  {
   "cell_type": "code",
   "execution_count": null,
   "metadata": {
    "collapsed": true
   },
   "outputs": [],
   "source": [
    ">>> apple_price = 100\n",
    ">>> orange_price = 80\n",
    ">>> apple_price < orange_price\n",
    "False\n",
    ">>> my_age = 16\n",
    ">>> my_age > 15\n",
    "True"
   ]
  },
  {
   "cell_type": "markdown",
   "metadata": {},
   "source": [
    "whileループでは、`while`の後に続く条件文が正しい時、すなわち`True`になるときはループを繰り返し、`False`になるときにはループを抜けるようになっています。\n",
    "例えば、"
   ]
  },
  {
   "cell_type": "code",
   "execution_count": null,
   "metadata": {
    "collapsed": true
   },
   "outputs": [],
   "source": [
    "while 10 < 15:\n",
    "    繰り返したい処理"
   ]
  },
  {
   "cell_type": "markdown",
   "metadata": {},
   "source": [
    "と書くと、`while True:`と書くのと同じ意味になり、ループの中身が実行されます。\n",
    "一方、"
   ]
  },
  {
   "cell_type": "code",
   "execution_count": null,
   "metadata": {
    "collapsed": true
   },
   "outputs": [],
   "source": [
    "while 10 > 15:\n",
    "    繰り返したい処理"
   ]
  },
  {
   "cell_type": "markdown",
   "metadata": {},
   "source": [
    "は`while False:`と書くのと同じ意味になり、ループの中身は実行されません。"
   ]
  },
  {
   "cell_type": "markdown",
   "metadata": {},
   "source": [
    "#### 比較演算子\n",
    "プログラミングの際には、>や<以外にも、数値同士の大きさを比較したい時に使える**比較演算子**はいくつか存在します。\n",
    "例えばPythonの比較演算子には、次のような種類があります。\n",
    "\n",
    "<table>\n",
    "  <tr>\n",
    "    <td>比較演算子</td>\n",
    "    <td>書き方の例</td>\n",
    "    <td>意味</td>\n",
    "  </tr>\n",
    "  <tr>\n",
    "    <td> &gt </td>\n",
    "    <td>x &gt y</td>\n",
    "    <td>xはyより大きい</td>\n",
    "  </tr>\n",
    "  <tr>\n",
    "    <td> &gt= </td>\n",
    "    <td>x &gt= y</td>\n",
    "    <td>xはyと同じか大きい</td>\n",
    "  </tr>\n",
    "  <tr>\n",
    "    <td> &lt </td>\n",
    "    <td>x &lt y</td>\n",
    "    <td>xはyより小さい</td>\n",
    "  </tr>\n",
    "  <tr>\n",
    "    <td> &lt </td>\n",
    "    <td>x &lt= y</td>\n",
    "    <td>xはyと同じか小さい</td>\n",
    "  </tr>\n",
    "  <tr>\n",
    "    <td> == </td>\n",
    "    <td>x == y</td>\n",
    "    <td>xとyは等しい</td>\n",
    "  </tr>\n",
    "  <tr>\n",
    "    <td> != </td>\n",
    "    <td>x != y</td>\n",
    "    <td>xとyは等しくない</td>\n",
    "  </tr>\n",
    "</table>\n",
    "\n",
    "#### 指定した数だけループの中の処理を実行する\n",
    "ではここでLEDの話に戻りましょう。\n",
    "\n",
    "今度は、LEDを**5回だけ**点滅させたい場合を考えていきます。\n",
    "その場合、繰り返し行いたい処理は前回同様「LEDを1回光らせて消す処理」ですね。そしてループの条件文は「5回数えたら」になります。\n",
    "\n",
    "実際にプログラムにしてみると次のようになります（プログラムのはじめの設定の部分は省略しています）。"
   ]
  },
  {
   "cell_type": "code",
   "execution_count": null,
   "metadata": {
    "collapsed": true
   },
   "outputs": [],
   "source": [
    "# main\n",
    "print(\"start\")\n",
    "count = 0\n",
    "while count < 5:\n",
    "    wiringpi.digitalWrite(led_pin, wiringpi.HIGH)\n",
    "    time.sleep(5)  # [sec]\n",
    "    wiringpi.digitalWrite(led_pin, wiringpi.LOW)\n",
    "    time.sleep(5)  # [sec]\n",
    "    count += 1\n",
    "print(\"end\")"
   ]
  },
  {
   "cell_type": "markdown",
   "metadata": {},
   "source": [
    "このプログラムには`count`という変数が登場します。\n",
    "はじめにcountに0という数字を代入し、whileループの中で`count += 1`という処理をしています。これは、countに1を足すということを意味しています。\n",
    "whileループの条件文のところには、`count < 5`と書かれています。つまり、`count`が5より小さい間はインデントしている部分が繰り返し実行されることになります。`count`に1が足されていって5になったとき、プログラムはwhileループの中の処理を行うのをやめ、その先にあるインデントがない行を実行します。このプログラムの場合、whileループを抜けると、`print(\"end\")`が実行されます。\n",
    "\n",
    "では、実際にプログラムを書き換えて、好きな回数LEDを点滅させるように改造してみましょう。"
   ]
  },
  {
   "cell_type": "markdown",
   "metadata": {},
   "source": [
    "### 4.  超音波センサで距離を測ろう\n",
    "\n",
    "#### 超音波センサとは？\n",
    "#### 距離と速さの関係\n",
    "![距離の求め方](54_file.gif \"距離の求め方\")\n",
    "https://www.honda-el.co.jp/hb/3_17.html\n",
    "\n",
    "#### 配線してみよう\n",
    "#### プログラミングしてみよう"
   ]
  },
  {
   "cell_type": "code",
   "execution_count": null,
   "metadata": {
    "collapsed": true
   },
   "outputs": [],
   "source": [
    "import wiringpi\n",
    "import time\n",
    "\n",
    "trig_pin = 17\n",
    "echo_pin = 27\n",
    "\n",
    "# settings\n",
    "wiringpi.wiringPiSetupGpio()\n",
    "wiringpi.pinMode(trig_pin, wiringpi.OUTPUT)\n",
    "wiringpi.pinMode(echo_pin, wiringpi.INPUT)\n",
    "\n",
    "wiringpi.digitalWrite(trig_pin, wiringpi.LOW)\n",
    "\n",
    "# main\n",
    "print(\"start\")\n",
    "while True:\n",
    "    ### trigger\n",
    "    wiringpi.digitalWrite(trig_pin, wiringpi.HIGH)\n",
    "    time.sleep(0.00001)  # [sec]\n",
    "    wiringpi.digitalWrite(trig_pin, wiringpi.LOW)\n",
    "\n",
    "    ### response time\n",
    "    while wiringpi.digitalRead(echo_pin) == 0:\n",
    "        time_begin = time.time()\n",
    "    \n",
    "    while wiringpi.digitalRead(echo_pin) == 1:\n",
    "        time_end = time.time()\n",
    "\n",
    "    t = time_end - time_begin\n",
    "    \n",
    "    ### calculate distance\n",
    "    distance = \n",
    "    print(distance)\n",
    "\n",
    "    time.sleep(1)  # [sec]\n",
    "print(\"end\")"
   ]
  },
  {
   "cell_type": "markdown",
   "metadata": {},
   "source": [
    "#### プログラム解説\n",
    "##### 4-5行目\n",
    "##### 9-10行目\n",
    "##### 12行目\n",
    "##### 16行目\n",
    "##### 18-20行目\n",
    "##### 23-27行目\n",
    "##### 29-30行目\n",
    "\n",
    "#### ラズパイGPIOのinputとoutput\n",
    "wiringpi.pinMode(pinの番号を示す変数, wiringpi.OUTPUT)はそのピンをアウトプット（出力）として使うことを意味します。\n",
    "これにより、そのピンはwiringpi.digitalWriteによりHIGHやLOWを設定できるようになります。\n",
    "\n",
    "一方、wiringpi.pinMode(pinの番号を示す変数, wiringpi.OUTPUT)はそのピンをインプット（入力）として使うことを意味します。\n",
    "これにより、そのピンはwiringpi.digitalReadにより、そのピンがHIGHの状態かLOWの状態かを確認できるようになります。"
   ]
  },
  {
   "cell_type": "markdown",
   "metadata": {},
   "source": [
    "### 5. チャレンジ問題\n",
    "whileループと条件文の復習として、第1回で出てきたPWMを使ったチャレンジ問題に挑戦してみましょう。\n",
    "#### whileとPWMを使ってLEDをだんだん明るくする\n",
    "第1回の実習では、LEDを1回だけ光らせる方法について学習しました。また、**パルス変調（PWM; Pulse Width Modulation)**を使うことでデジタルでもアナログのように光の強さを変えられることを学びました。\n",
    "\n",
    "復習しておくと、LEDを1回だけ弱い光で光らせるコードは次のとおりでした。"
   ]
  },
  {
   "cell_type": "code",
   "execution_count": null,
   "metadata": {
    "collapsed": true
   },
   "outputs": [],
   "source": [
    "import wiringpi\n",
    "import time\n",
    "\n",
    "led_pin = 23\n",
    "\n",
    "# settings\n",
    "wiringpi.wiringPiSetupGpio()\n",
    "wiringpi.pinMode(led_pin, wiringpi,OUTPUT)\n",
    "\n",
    "# main\n",
    "print(\"start\")\n",
    "wiringpi.softPwmCreate(led_pin, 0, 100)\n",
    "wiringpi.softPwmWrite(led_pin, 20)\n",
    "time.sleep(5)  # [sec]\n",
    "wiringpi.softPwmWrite(led_pin, 0)\n",
    "print(\"end\")"
   ]
  },
  {
   "cell_type": "markdown",
   "metadata": {},
   "source": [
    "では、今回はwhileループを使ってLEDをだんだん明るく光らせるようにプログラムを書き換えてみましょう。\n",
    "\n",
    "##### ヒント\n",
    "明るさを変化させていきたいので、明るさの値を保存するための変数を作りましょう。\n",
    "はじめはその変数に0を入れ、whileループの中で値を少しずつ増やしていきましょう。\n",
    "whileループが無限に続かないような条件文を考えましょう。\n",
    "\n",
    "#### 明るくなるスピードを調節する\n",
    "明るくなるスピードをゆっくりにしてみましょう。\n",
    "\n",
    "#### 明るくなったり暗くなったりを5回繰り返す\n",
    "明るくなったり暗くなったりを5回繰り返すようなプログラムに書き換えましょう。\n",
    "\n",
    "### チャレンジ問題 解答例\n",
    "#### whileとPWMを使ってLEDをだんだん明るくする"
   ]
  },
  {
   "cell_type": "code",
   "execution_count": null,
   "metadata": {
    "collapsed": true
   },
   "outputs": [],
   "source": [
    "import wiringpi\n",
    "import time\n",
    "\n",
    "led_pin = 23\n",
    "\n",
    "# settings\n",
    "wiringpi.wiringPiSetupGpio()\n",
    "wiringpi.pinMode(led_pin, wiringpi,OUTPUT)\n",
    "wiringpi.softPwmCreate(led_pin, 0, 100)\n",
    "\n",
    "# main\n",
    "print(\"start\")\n",
    "brightness = 0\n",
    "while brightness <= 100:\n",
    "    wiringpi.softPwmWrite(led_pin, brightness)\n",
    "    time.sleep(0.1)  # [sec]\n",
    "    brightness += 1\n",
    "wiringpi.softPwmWrite(led_pin, 0)\n",
    "print(\"end\")"
   ]
  },
  {
   "cell_type": "markdown",
   "metadata": {},
   "source": [
    "#### 明るくなるスピードを調節する"
   ]
  },
  {
   "cell_type": "code",
   "execution_count": null,
   "metadata": {
    "collapsed": true
   },
   "outputs": [],
   "source": [
    "import wiringpi\n",
    "import time\n",
    "\n",
    "led_pin = 23\n",
    "\n",
    "# settings\n",
    "wiringpi.wiringPiSetupGpio()\n",
    "wiringpi.pinMode(led_pin, wiringpi,OUTPUT)\n",
    "wiringpi.softPwmCreate(led_pin, 0, 100)\n",
    "\n",
    "# main\n",
    "print(\"start\")\n",
    "brightness = 0\n",
    "while brightness <= 100:\n",
    "    wiringpi.softPwmWrite(led_pin, brightness)\n",
    "    time.sleep(0.5)  # [sec]\n",
    "    brightness += 1\n",
    "wiringpi.softPwmWrite(led_pin, 0)\n",
    "print(\"end\")"
   ]
  },
  {
   "cell_type": "markdown",
   "metadata": {},
   "source": [
    "#### 明るくなったり暗くなったりを5回繰り返す"
   ]
  },
  {
   "cell_type": "code",
   "execution_count": null,
   "metadata": {
    "collapsed": true
   },
   "outputs": [],
   "source": [
    "import wiringpi\n",
    "import time\n",
    "\n",
    "led_pin = 23\n",
    "\n",
    "# settings\n",
    "wiringpi.wiringPiSetupGpio()\n",
    "wiringpi.pinMode(led_pin, wiringpi,OUTPUT)\n",
    "wiringpi.softPwmCreate(led_pin, 0, 100)\n",
    "\n",
    "# main\n",
    "print(\"start\")\n",
    "count = 0\n",
    "brightness = 0\n",
    "while count < 5:\n",
    "    while brightness < 100:\n",
    "        wiringpi.softPwmWrite(led_pin, brightness)\n",
    "        time.sleep(0.1)  # [sec]\n",
    "        brightness += 1\n",
    "    while brighness > 0:\n",
    "        wiringpi.softPwmWrite(led_pin, brightness)\n",
    "        time.sleep(0.1)  # [sec]\n",
    "        brightness -= 1\n",
    "    count += 1\n",
    "wiringpi.softPwmWrite(led_pin, 0)\n",
    "print(\"end\")"
   ]
  }
 ],
 "metadata": {
  "kernelspec": {
   "display_name": "Python 3",
   "language": "python",
   "name": "python3"
  },
  "language_info": {
   "codemirror_mode": {
    "name": "ipython",
    "version": 3
   },
   "file_extension": ".py",
   "mimetype": "text/x-python",
   "name": "python",
   "nbconvert_exporter": "python",
   "pygments_lexer": "ipython3",
   "version": "3.6.4"
  }
 },
 "nbformat": 4,
 "nbformat_minor": 2
}
