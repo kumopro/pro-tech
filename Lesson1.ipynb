{
 "cells": [
  {
   "cell_type": "markdown",
   "metadata": {},
   "source": [
    "### 【基本問題】LEDのアノード側をラズパイのGPIOにつなぐ場合"
   ]
  },
  {
   "cell_type": "code",
   "execution_count": null,
   "metadata": {},
   "outputs": [],
   "source": [
    "import wiringpi\n",
    "import time\n",
    "\n",
    "led_pin = 23\n",
    "\n",
    "# settings\n",
    "wiringpi.wiringPiSetupGpio()\n",
    "wiringpi.pinMode(led_pin, wiringpi.OUTPUT)\n",
    "\n",
    "# main\n",
    "print(\"start\")\n",
    "wiringpi.digitalWrite(led_pin, wiringpi.HIGH)\n",
    "time.sleep(5)  # [sec]\n",
    "wiringpi.digitalWrite(led_pin, wiringpi.LOW)\n",
    "print(\"end\")"
   ]
  },
  {
   "cell_type": "markdown",
   "metadata": {},
   "source": [
    "### 【練習問題】LEDのカソード側をラズパイのGPIOにつなぐ場合\n",
    "#### 配線の変更\n",
    "ピン番号は前回と同じGPIO23を使うことにします。\n",
    "LEDのアノード側はグラウンドではなく、3.3V電源につなぎ変える必要があります。\n",
    "\n",
    "#### プログラムの変更\n",
    "GPIO23に電圧をかけると電流は流れません。逆に電圧をかけない場合に、電流が流れます。\n",
    "ですので、time.sleepの前後に書いてある電圧の設定を前回と逆にする必要があります。"
   ]
  },
  {
   "cell_type": "code",
   "execution_count": null,
   "metadata": {},
   "outputs": [],
   "source": [
    "import wiringpi\n",
    "import time\n",
    "\n",
    "led_pin = 23\n",
    "\n",
    "# settings\n",
    "wiringpi.wiringPiSetupGpio()\n",
    "wiringpi.pinMode(led_pin, wiringpi.OUTPUT)\n",
    "\n",
    "# main\n",
    "print(\"start\")\n",
    "wiringpi.digitalWrite(led_pin, wiringpi.LOW)\n",
    "time.sleep(5)  # [sec]\n",
    "wiringpi.digitalWrite(led_pin, wiringpi.HIGH)\n",
    "print(\"end\")"
   ]
  },
  {
   "cell_type": "markdown",
   "metadata": {},
   "source": [
    "### LEDの光量を指定する\n",
    "#### これまでのLチカプログラム\n",
    "ここまでの学習で、LEDをONにしたりOFFにしたりできるようになりました。\n",
    "\n",
    "ただ、電圧をHIGHにするかLOWにするかの2つの設定（ONとOFFの設定）しかなかったと思います。\n",
    "ではONとOFFを切り替えるだけでなく、少し暗い明るさでLEDを点灯させるなどの「調光（光の調節）」はできないのでしょうか？\n",
    "\n",
    "#### PWMを使ってアナログ出力の真似をする\n",
    "ラズパイはデジタル出力（0か1かの出力）しか行うことができませんが、「PWM」という方法を用いることで、LEDの光量を調節することができます。\n",
    "\n",
    "PWMとは、デジタル出力のHIGHとLOWを超高速に切り替える仕組みのことで、その際のHIGHとLOWの割合を調節することでアナログのような出力が可能になります。\n",
    "例えばLOWの割合をHIGHの割合より大きく設定して出力すると、LEDの消えている時間が光っている時間よりも長くなり、人の目にはLEDが薄暗く点灯しているように見えます。\n",
    "\n",
    "ちなみに、「明るさを暗くするなら抵抗の値を増やして流れる電流を少なくすればいいんじゃないか？」と思った方もいるかもしれません。それも正解ですので、試してみると良いでしょう。\n",
    "ただ、PWMを使う場合は回路を組み替える必要がなく、また値の細かい調整が可能であるという利点があります。PWMを使いこなせるようになっておくと、いろいろな応用がきくので、実現できることの幅が広がるでしょう。\n",
    "\n",
    "#### プログラム\n",
    "はじめに書いたプログラムの半分の光量でLEDを光らせるプログラムを書いてみましょう。"
   ]
  },
  {
   "cell_type": "code",
   "execution_count": null,
   "metadata": {},
   "outputs": [],
   "source": [
    "import wiringpi\n",
    "import time\n",
    "\n",
    "led_pin = 23\n",
    "\n",
    "# settings\n",
    "wiringpi.wiringPiSetupGpio()\n",
    "wiringpi.pinMode(led_pin, wiringpi,OUTPUT)\n",
    "\n",
    "# main\n",
    "print(\"start\")\n",
    "wiringpi.softPwmCreate(led_pin, 0, 100)\n",
    "wiringpi.softPwmWrite(led_pin, 50)\n",
    "time.sleep(5)  # [sec]\n",
    "wiringpi.digitalWrite(led_pin, wiringpi.LOW)\n",
    "print(\"end\")"
   ]
  },
  {
   "cell_type": "markdown",
   "metadata": {},
   "source": [
    "### フルカラーLEDを制御する\n",
    "#### 配線\n",
    "\n",
    "#### プログラム"
   ]
  },
  {
   "cell_type": "code",
   "execution_count": null,
   "metadata": {},
   "outputs": [],
   "source": [
    "import wiringpi\n",
    "import time\n",
    "\n",
    "led_r_pin = 24\n",
    "led_g_pin = 18\n",
    "led_b_pin = 23\n",
    "\n",
    "# settings\n",
    "wiringpi.wiringPiSetupGpio()\n",
    "wiringpi.pinMode(led_r_pin, wiringpi,OUTPUT)\n",
    "wiringpi.pinMode(led_g_pin, wiringpi,OUTPUT)\n",
    "wiringpi.pinMode(led_b_pin, wiringpi,OUTPUT)\n",
    "\n",
    "# main\n",
    "print(\"start\")\n",
    "wiringpi.digitalWrite(led_r_pin, wiringpi.HIGH)\n",
    "wiringpi.digitalWrite(led_g_pin, wiringpi.LOW)\n",
    "wiringpi.digitalWrite(led_b_pin, wiringpi.LOW)\n",
    "time.sleep(5)  # [sec]\n",
    "wiringpi.digitalWrite(led_r_pin, wiringpi.LOW)\n",
    "wiringpi.digitalWrite(led_g_pin, wiringpi.HIGH)\n",
    "wiringpi.digitalWrite(led_b_pin, wiringpi.LOW)\n",
    "time.sleep(5)  # [sec]\n",
    "wiringpi.digitalWrite(led_r_pin, wiringpi.LOW)\n",
    "wiringpi.digitalWrite(led_g_pin, wiringpi.LOW)\n",
    "wiringpi.digitalWrite(led_b_pin, wiringpi.HIGH)\n",
    "time.sleep(5)  # [sec]\n",
    "wiringpi.digitalWrite(led_b_pin, wiringpi.LOW)\n",
    "print(\"end\")"
   ]
  },
  {
   "cell_type": "markdown",
   "metadata": {},
   "source": [
    "### 【練習問題】フルカラーLEDを調光する\n",
    "#### フルカラーLEDでPWM出力\n",
    "これまでに習った知識を活かして、フルカラーLEDを使って次のようなプログラムを書いてみましょう！\n",
    "\n",
    "1. PWMを用いないで、LEDを黄色に光らせましょう\n",
    "1. PWMを用いて、LEDを黄色に光らせましょう\n",
    "1. PWMを用いて、LEDをオレンジ色に光らせましょう\n",
    "1. PWMを用いて、LEDを自分の好きな色に光らせましょう\n"
   ]
  }
 ],
 "metadata": {
  "kernelspec": {
   "display_name": "Python 3",
   "language": "python",
   "name": "python3"
  },
  "language_info": {
   "codemirror_mode": {
    "name": "ipython",
    "version": 3
   },
   "file_extension": ".py",
   "mimetype": "text/x-python",
   "name": "python",
   "nbconvert_exporter": "python",
   "pygments_lexer": "ipython3",
   "version": "3.6.4"
  }
 },
 "nbformat": 4,
 "nbformat_minor": 2
}
