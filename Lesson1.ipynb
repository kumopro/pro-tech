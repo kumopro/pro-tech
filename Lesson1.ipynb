{
 "cells": [
  {
   "cell_type": "markdown",
   "metadata": {},
   "source": [
    "# 練習してみよう\n",
    "## クイズ1：カフェのレジを作ろう\n",
    "あなたは今月カフェをオープンしました。口コミでカフェの良さが広がり、客さんが増えてきましたが、電卓でお会計を計算していると時間がかかりすぎて、レジの前に長い列ができてしまいます。そこであなたはレジのシステムを開発することにしました。\n",
    "### 問1：新しいファイルを作成し、変数を使ってプログラムを書きましょう\n",
    "<img src=\"imgs/cafe_menu.png\" align=\"left\" width=\"200\"><br clear=\"left\">\n",
    "### 問2：開発したプログラムで、次のお客さんのお会計を計算してみましょう\n",
    "- お客さん1「コーヒー1杯、紅茶2杯、マフィン3つ」\n",
    "- お客さん2「コーヒー1杯、紅茶1杯、マフィン1つ、チョコパフェ2つ」\n",
    "- お客さん3「コーヒー3杯、紅茶7杯、マフィン2つ、スコーン7つ、チョコパフェ1つ」\n",
    "### 問3（応用）\n",
    "お客さんから数字を聞いて入力する\n",
    "\n",
    "## クイズ2：ペットロボットを作ろう\n",
    "あなたはロボットの研究所で働いています。今月から新型のペットロボットの検討プロジェクトがスタートし、まずはプロトタイプ（試作品）の開発を始めることになりました。このペットロボットには、次のような機能が必要です。試しにプログラムを書いてみましょう。\n",
    "- 充電が10%以下になったら自動的に充電ステーションへ行く\n",
    " - まずはprint文で\"Go to the charging station\"と出力してみましょう\n",
    "- 充電が100%になったら充電ステーションを離れる\n",
    " - まずはprint文で\"Leave the charging station\"と出力してみましょう\n",
    "- 室内の温度が20度未満になったらヒーターをつける\n",
    " - まずはprint文で\"Turn the heater on\"と出力してみましょう\n",
    "- 室内の温度が28度以上になったら冷房を入れる\n",
    " - まずはprint文で\"Turn the air conditioner on\"と出力してみましょう\n",
    " \n",
    "## クイズ3：奇数？偶数？\n",
    "サイコロを振って奇数が出たら勝ちのゲームを作ります。次のプログラムを完成させましょう。"
   ]
  },
  {
   "cell_type": "markdown",
   "metadata": {},
   "source": [
    "# 練習してみよう（回答）\n",
    "## クイズ1：カフェのレジを作ろう\n",
    "### 問1：新しいファイルを作成し、変数を使ってプログラムを書きましょう"
   ]
  },
  {
   "cell_type": "code",
   "execution_count": 6,
   "metadata": {},
   "outputs": [
    {
     "name": "stdout",
     "output_type": "stream",
     "text": [
      "Total price:  0\n"
     ]
    }
   ],
   "source": [
    "coffee_price = 250\n",
    "tea_price = 280\n",
    "muffin_price = 320\n",
    "scone_price = 340\n",
    "parfe_price = 570\n",
    "\n",
    "coffee_num = 0\n",
    "tea_num = 0\n",
    "muffin_num = 0\n",
    "scone_num = 0\n",
    "parfe_num = 0\n",
    "\n",
    "drink_price = coffee_price * coffee_num + tea_price * tea_num\n",
    "food_price = muffin_price * muffin_num + scone_price * scone_num + parfe_price * parfe_num\n",
    "total_price = drink_price + food_price\n",
    "\n",
    "print(\"Total price: \", total_price)"
   ]
  },
  {
   "cell_type": "markdown",
   "metadata": {},
   "source": [
    "### 問2：開発したプログラムで、次のお客さんのお会計を計算してみましょう\n",
    "- お客さん1「コーヒー1杯、紅茶2杯、マフィン3つ」"
   ]
  },
  {
   "cell_type": "code",
   "execution_count": 12,
   "metadata": {},
   "outputs": [
    {
     "name": "stdout",
     "output_type": "stream",
     "text": [
      "Total price:  1770\n"
     ]
    }
   ],
   "source": [
    "coffee_price = 250\n",
    "tea_price = 280\n",
    "muffin_price = 320\n",
    "scone_price = 340\n",
    "parfe_price = 570\n",
    "\n",
    "coffee_num = 1\n",
    "tea_num = 2\n",
    "muffin_num = 3\n",
    "scone_num = 0\n",
    "parfe_num = 0\n",
    "\n",
    "drink_price = coffee_price * coffee_num + tea_price * tea_num\n",
    "food_price = muffin_price * muffin_num + scone_price * scone_num + parfe_price * parfe_num\n",
    "total_price = drink_price + food_price\n",
    "\n",
    "print(\"Total price: \", total_price)"
   ]
  },
  {
   "cell_type": "markdown",
   "metadata": {},
   "source": [
    "- お客さん2「コーヒー1杯、紅茶1杯、マフィン1つ、チョコパフェ2つ」"
   ]
  },
  {
   "cell_type": "code",
   "execution_count": 11,
   "metadata": {},
   "outputs": [
    {
     "name": "stdout",
     "output_type": "stream",
     "text": [
      "Total price:  1990\n"
     ]
    }
   ],
   "source": [
    "coffee_price = 250\n",
    "tea_price = 280\n",
    "muffin_price = 320\n",
    "scone_price = 340\n",
    "parfe_price = 570\n",
    "\n",
    "coffee_num = 1\n",
    "tea_num = 1\n",
    "muffin_num = 1\n",
    "scone_num = 0\n",
    "parfe_num = 2\n",
    "\n",
    "drink_price = coffee_price * coffee_num + tea_price * tea_num\n",
    "food_price = muffin_price * muffin_num + scone_price * scone_num + parfe_price * parfe_num\n",
    "total_price = drink_price + food_price\n",
    "\n",
    "print(\"Total price: \", total_price)"
   ]
  },
  {
   "cell_type": "markdown",
   "metadata": {},
   "source": [
    "- お客さん3「コーヒー3杯、紅茶7杯、マフィン2つ、スコーン7つ、チョコパフェ1つ」"
   ]
  },
  {
   "cell_type": "code",
   "execution_count": 10,
   "metadata": {},
   "outputs": [
    {
     "name": "stdout",
     "output_type": "stream",
     "text": [
      "Total price:  6300\n"
     ]
    }
   ],
   "source": [
    "coffee_price = 250\n",
    "tea_price = 280\n",
    "muffin_price = 320\n",
    "scone_price = 340\n",
    "parfe_price = 570\n",
    "\n",
    "coffee_num = 3\n",
    "tea_num = 7\n",
    "muffin_num = 2\n",
    "scone_num = 7\n",
    "parfe_num = 1\n",
    "\n",
    "drink_price = coffee_price * coffee_num + tea_price * tea_num\n",
    "food_price = muffin_price * muffin_num + scone_price * scone_num + parfe_price * parfe_num\n",
    "total_price = drink_price + food_price\n",
    "\n",
    "print(\"Total price: \", total_price)"
   ]
  }
 ],
 "metadata": {
  "kernelspec": {
   "display_name": "Python 3",
   "language": "python",
   "name": "python3"
  },
  "language_info": {
   "codemirror_mode": {
    "name": "ipython",
    "version": 3
   },
   "file_extension": ".py",
   "mimetype": "text/x-python",
   "name": "python",
   "nbconvert_exporter": "python",
   "pygments_lexer": "ipython3",
   "version": "3.6.4"
  }
 },
 "nbformat": 4,
 "nbformat_minor": 2
}
