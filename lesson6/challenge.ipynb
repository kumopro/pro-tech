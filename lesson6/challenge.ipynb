{
 "cells": [
  {
   "cell_type": "markdown",
   "metadata": {},
   "source": [
    "### 4-1\n",
    "#### Pythonプログラム（lesson6_camera.py）"
   ]
  },
  {
   "cell_type": "code",
   "execution_count": null,
   "metadata": {
    "collapsed": true
   },
   "outputs": [],
   "source": [
    "import picamera\n",
    "\n",
    "def main():\n",
    "    cam = picamera.PiCamera()\n",
    "    cam.resolution = (640, 480)\n",
    "    cam.start_preview()\n",
    "    fname = \"my_picture.png\"\n",
    "    cam.capture(fname)\n",
    "    cam.stop_preview()\n",
    "\n",
    "main()"
   ]
  },
  {
   "cell_type": "markdown",
   "metadata": {},
   "source": [
    "#### ラズパイの設定（/etc/lirc/lircrc）\n",
    "\n",
    "```\n",
    "begin\n",
    "  remote = remote.conf\n",
    "  prog = irexec\n",
    "  button = my_button\n",
    "  config = sudo python /home/pi/lesson6_camera.py\n",
    "end\n",
    "```"
   ]
  },
  {
   "cell_type": "markdown",
   "metadata": {},
   "source": [
    "### 4-2\n",
    "#### ラズパイの設定（/etc/lirc/lircrc）\n",
    "\n",
    "```\n",
    "begin\n",
    "  remote = remote.conf\n",
    "  prog = irexec\n",
    "  button = my_button1\n",
    "  config = sudo python /home/pi/lesson6_led.py\n",
    "end\n",
    "begin\n",
    "  remote = remote.conf\n",
    "  prog = irexec\n",
    "  button = my_button2\n",
    "  config = sudo python /home/pi/lesson6_camera.py\n",
    "end\n",
    "```"
   ]
  }
 ],
 "metadata": {
  "kernelspec": {
   "display_name": "Python 3",
   "language": "python",
   "name": "python3"
  },
  "language_info": {
   "codemirror_mode": {
    "name": "ipython",
    "version": 3
   },
   "file_extension": ".py",
   "mimetype": "text/x-python",
   "name": "python",
   "nbconvert_exporter": "python",
   "pygments_lexer": "ipython3",
   "version": "3.6.4"
  }
 },
 "nbformat": 4,
 "nbformat_minor": 2
}
