{
 "cells": [
  {
   "cell_type": "markdown",
   "metadata": {},
   "source": [
    "### challenge5-2"
   ]
  },
  {
   "cell_type": "code",
   "execution_count": null,
   "metadata": {
    "collapsed": true
   },
   "outputs": [],
   "source": [
    "def countup(num):\n",
    "    count = 1\n",
    "    while count <= num:\n",
    "        print(count)\n",
    "        count += 1\n",
    "\n",
    "countup(3)"
   ]
  },
  {
   "cell_type": "markdown",
   "metadata": {},
   "source": [
    "### challenge5-3"
   ]
  },
  {
   "cell_type": "code",
   "execution_count": null,
   "metadata": {
    "collapsed": true
   },
   "outputs": [],
   "source": [
    "def countdown(num):\n",
    "    count = num\n",
    "    while count > 0:\n",
    "        print(count)\n",
    "        count -= 1\n",
    "\n",
    "countdown(3)"
   ]
  },
  {
   "cell_type": "markdown",
   "metadata": {},
   "source": [
    "### challenge5-4"
   ]
  },
  {
   "cell_type": "code",
   "execution_count": null,
   "metadata": {
    "collapsed": true
   },
   "outputs": [],
   "source": [
    "def countdown(num):\n",
    "    count = num\n",
    "    while count > 0:\n",
    "        print(count)\n",
    "        count -= 1\n",
    "    print(\"time over!\")\n",
    "\n",
    "countdown(3)"
   ]
  },
  {
   "cell_type": "markdown",
   "metadata": {},
   "source": [
    "### challenge5-5"
   ]
  },
  {
   "cell_type": "code",
   "execution_count": null,
   "metadata": {
    "collapsed": true
   },
   "outputs": [],
   "source": [
    "def countup(num):\n",
    "    count = 1\n",
    "    while count <= num:\n",
    "        if count % 3 == 0:\n",
    "            print(count)\n",
    "        count += 1\n",
    "\n",
    "countup(10)"
   ]
  },
  {
   "cell_type": "markdown",
   "metadata": {},
   "source": [
    "### challenge5-6"
   ]
  },
  {
   "cell_type": "code",
   "execution_count": null,
   "metadata": {
    "collapsed": true
   },
   "outputs": [],
   "source": [
    "import wiringpi\n",
    "import time\n",
    "\n",
    "\n",
    "def led_blink(led_pin):\n",
    "    wiringpi.digitalWrite(led_pin, wiringpi.HIGH)\n",
    "    time.sleep(0.5)  # [sec]\n",
    "    wiringpi.digitalWrite(led_pin, wiringpi.LOW)\n",
    "\n",
    "\n",
    "def getUltrasonicDistance(trig_pin, echo_pin):\n",
    "    ### trigger\n",
    "    wiringpi.digitalWrite(trig_pin, wiringpi.HIGH)\n",
    "    time.sleep(0.00001)  # [sec]\n",
    "    wiringpi.digitalWrite(trig_pin, wiringpi.LOW)\n",
    "\n",
    "    ### response time\n",
    "    while wiringpi.digitalRead(echo_pin) == 0:\n",
    "        time_begin = time.time()\n",
    "    \n",
    "    while wiringpi.digitalRead(echo_pin) == 1:\n",
    "        time_end = time.time()\n",
    "\n",
    "    t = time_end - time_begin\n",
    "    \n",
    "    ### calculate distance\n",
    "    distance = t * 17000\n",
    "\n",
    "    return distance\n",
    "\n",
    "def main():\n",
    "    trig_pin = 17\n",
    "    echo_pin = 27\n",
    "    led_pin = 23\n",
    "\n",
    "    wiringpi.wiringPiSetupGpio()\n",
    "    wiringpi.pinMode(trig_pin, wiringpi.OUTPUT)\n",
    "    wiringpi.pinMode(echo_pin, wiringpi.INPUT)\n",
    "    wiringpi.pinMode(led_pin, wiringpi.OUTPUT)\n",
    "\n",
    "    wiringpi.digitalWrite(trig_pin, wiringpi.LOW)\n",
    "\n",
    "    print(\"start\")\n",
    "    while True:\n",
    "        distance = getUltrasonicDistance(trig_pin, echo_pin)\n",
    "        print(distance)\n",
    "        \n",
    "        if distance < 10:\n",
    "            led_blink(led_pin)\n",
    "\n",
    "        time.sleep(1)  # [sec]\n",
    "    print(\"end\")\n",
    "\n",
    "main()\n"
   ]
  }
 ],
 "metadata": {
  "kernelspec": {
   "display_name": "Python 3",
   "language": "python",
   "name": "python3"
  },
  "language_info": {
   "codemirror_mode": {
    "name": "ipython",
    "version": 3
   },
   "file_extension": ".py",
   "mimetype": "text/x-python",
   "name": "python",
   "nbconvert_exporter": "python",
   "pygments_lexer": "ipython3",
   "version": "3.6.4"
  }
 },
 "nbformat": 4,
 "nbformat_minor": 2
}
