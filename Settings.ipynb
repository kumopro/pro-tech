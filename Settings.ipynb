{
 "cells": [
  {
   "cell_type": "markdown",
   "metadata": {},
   "source": [
    "# 授業前の環境設定について\n",
    "## 概要\n",
    "\n",
    "\n",
    "## 追加インストールをお願いしたいもの\n",
    "- gedit\n",
    " - コーディング用のテキストエディタ\n",
    "- noto font\n",
    " - googleが出しているフリーの日本語等幅フォント\n",
    " - geditでコーディングする際に見やすいように、等幅フォントをインストールして使います。\n",
    "\n",
    "## インストール方法\n",
    "### gedit\n",
    "下記のコマンドをLXTerminalで実行してください。\n",
    "\n",
    "```bash\n",
    "$ sudo apt-get install gedit\n",
    "```\n",
    "\n",
    "### noto font\n",
    "下記のコマンドをLXTerminalで実行してください。\n",
    "\n",
    "```sh\n",
    "$ cd ~/Downloads\n",
    "$ wget -O NotoSansCJKjp-hinted.zip https://noto-website-2.storage.googleapis.com/pkgs/NotoSansCJKjp-hinted.zip\n",
    "$ unzip -d NotoSansCJKjp-hinted NotoSansCJKjp-hinted.zip\n",
    "$ sudo mkdir -p /usr/share/fonts/opentype\n",
    "$ sudo mv -fv ./NotoSansCJKjp-hinted /usr/share/fonts/opentype/note\n",
    "$ rm -rfv NotoSansCJKjp-hinted.zip\n",
    "$ sudo fc-cache -fv\n",
    "```\n",
    "\n",
    "## gedit設定\n",
    "### 変更する点\n",
    "- フォント（等幅フォントを使用するようにします）\n",
    " - そのままの設定だとプロポーショナルフォントになっていてコードが非常に見にくいので、等幅に変更したほうがいいです。\n",
    "- 行番号の表示\n",
    " - 見やすいので、あったほうがいいです。\n",
    "- タブをスペースで表示\n",
    " - これは嗜好の問題なのでタブでもいいのですが、タブとスペースが混ざるとエラーが出るので、全部スペースの方が安全だと思います。\n",
    "- タブをスペース4つ分に変更\n",
    " - 少なくともPythonではスペース4つがメジャーなのと、見やすいので。\n",
    "\n",
    "### 設定方法\n",
    "\\![環境設定ステップ1]\\(imgs/cropped_環境設定p1.png)\n",
    "\\![環境設定ステップ1]\\(imgs/cropped_環境設定p2.png)\n",
    "\\![環境設定ステップ1]\\(imgs/cropped_環境設定p3.png)\n",
    "\\![環境設定ステップ1]\\(imgs/cropped_環境設定p4.png)\n",
    "\\![環境設定ステップ1]\\(imgs/cropped_環境設定p5.png)\n",
    "\\![環境設定ステップ1]\\(imgs/cropped_環境設定p6.png)\n",
    "\n",
    "<img src=\"imgs/cropped_環境設定p1.png\" align=\"left\" width=\"650\">\n",
    "<img src=\"imgs/cropped_環境設定p2.png\" align=\"left\" width=\"650\">\n",
    "<img src=\"imgs/cropped_環境設定p3.png\" align=\"left\" width=\"650\">\n",
    "<img src=\"imgs/cropped_環境設定p4.png\" align=\"left\" width=\"650\">\n",
    "<img src=\"imgs/cropped_環境設定p5.png\" align=\"left\" width=\"650\">\n",
    "<img src=\"imgs/cropped_環境設定p6.png\" align=\"left\" width=\"650\">\n"
   ]
  }
 ],
 "metadata": {
  "kernelspec": {
   "display_name": "Python 3",
   "language": "python",
   "name": "python3"
  },
  "language_info": {
   "codemirror_mode": {
    "name": "ipython",
    "version": 3
   },
   "file_extension": ".py",
   "mimetype": "text/x-python",
   "name": "python",
   "nbconvert_exporter": "python",
   "pygments_lexer": "ipython3",
   "version": "3.6.4"
  }
 },
 "nbformat": 4,
 "nbformat_minor": 2
}
