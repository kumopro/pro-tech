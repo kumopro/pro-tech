{
 "cells": [
  {
   "cell_type": "markdown",
   "metadata": {},
   "source": [
    "### 5-1"
   ]
  },
  {
   "cell_type": "code",
   "execution_count": null,
   "metadata": {
    "collapsed": true
   },
   "outputs": [],
   "source": [
    "import wiringpi\n",
    "import time\n",
    "import picamera\n",
    "\n",
    "def getDistance(trig_pin, echo_pin):\n",
    "    ### trigger\n",
    "    wiringpi.digitalWrite(trig_pin, wiringpi.HIGH)\n",
    "    time.sleep(0.00001)  # [sec]\n",
    "    wiringpi.digitalWrite(trig_pin, wiringpi.LOW)\n",
    "\n",
    "    ### response time\n",
    "    while wiringpi.digitalRead(echo_pin) == 0:\n",
    "        time_begin = time.time()\n",
    "    \n",
    "    while wiringpi.digitalRead(echo_pin) == 1:\n",
    "        time_end = time.time()\n",
    "\n",
    "    t = time_end - time_begin\n",
    "    \n",
    "    ### calculate distance\n",
    "    distance = t * 17000\n",
    "\n",
    "    return distance\n",
    "\n",
    "def main():\n",
    "    trig_pin = 17\n",
    "    echo_pin = 27\n",
    "\n",
    "    wiringpi.wiringPiSetupGpio()\n",
    "    wiringpi.pinMode(trig_pin, wiringpi.OUTPUT)\n",
    "    wiringpi.pinMode(echo_pin, wiringpi.INPUT)\n",
    "\n",
    "    wiringpi.digitalWrite(trig_pin, wiringpi.LOW)\n",
    "\n",
    "    cam = picamera.PiCamera()\n",
    "    cam.resolution = (640, 480)\n",
    "    cam.start_preview()\n",
    "    \n",
    "    count = 1\n",
    "\n",
    "    while True:\n",
    "        distance = getDistance(trig_pin, echo_pin)\n",
    "        print(distance)\n",
    "\n",
    "        time.sleep(0.5)  # [sec]\n",
    "\n",
    "        if distance < 15:\n",
    "            print(\"capture\")\n",
    "            fname = \"my_picture_{}.png\".format(count)\n",
    "            cam.capture(fname)\n",
    "            count += 1\n",
    "            if count > 10:\n",
    "                break\n",
    "        if distance < 8:\n",
    "            break\n",
    "\n",
    "    cam.stop_preview()\n",
    "\n",
    "main()"
   ]
  },
  {
   "cell_type": "markdown",
   "metadata": {},
   "source": [
    "### 5-2"
   ]
  },
  {
   "cell_type": "code",
   "execution_count": null,
   "metadata": {
    "collapsed": true
   },
   "outputs": [],
   "source": [
    "def print_name_age():\n",
    "    name = \"Taro Yamada\"\n",
    "    age = 15\n",
    "    print(\"Name: \" + name)\n",
    "    print(\"Age: {}\".format(age))\n",
    "\n",
    "print_name_age()"
   ]
  },
  {
   "cell_type": "markdown",
   "metadata": {},
   "source": [
    "### 5-3"
   ]
  },
  {
   "cell_type": "code",
   "execution_count": null,
   "metadata": {
    "collapsed": true
   },
   "outputs": [],
   "source": [
    "def print_name_age(name, age):\n",
    "    print(\"Name: \" + name)\n",
    "    print(\"Age: {}\".format(age))\n",
    "\n",
    "print_name_age(\"Taro Yamada\", 15)\n",
    "print_name_age(\"Jiro Yamada\", 12)"
   ]
  },
  {
   "cell_type": "markdown",
   "metadata": {},
   "source": [
    "### 5-4"
   ]
  },
  {
   "cell_type": "code",
   "execution_count": null,
   "metadata": {
    "collapsed": true
   },
   "outputs": [],
   "source": [
    "def print_name_age(name, age):\n",
    "    print(\"Name: \" + name)\n",
    "    print(\"Age: {}\".format(age))\n",
    "\n",
    "    if age >= 65:\n",
    "        price = 6700\n",
    "    elif age >= 18:\n",
    "        price = 7400\n",
    "    elif age >= 12:\n",
    "        price = 6400\n",
    "    elif age >= 4:\n",
    "        price = 4800\n",
    "    else:\n",
    "        price = 0\n",
    "\n",
    "    if price > 0:\n",
    "        print(\"Price: {}yen\".format(price))\n",
    "    else:\n",
    "        print(\"Price: free\")\n",
    "\n",
    "print_name_age(\"Taro Yamada\", 15)\n",
    "print_name_age(\"Ai Yamada\", 11)\n",
    "print_name_age(\"Kenji Yamada\", 43)\n",
    "print_name_age(\"Sayuri Yamada\", 67)\n",
    "print_name_age(\"Haru Tanaka\", 2)"
   ]
  }
 ],
 "metadata": {
  "kernelspec": {
   "display_name": "Python 3",
   "language": "python",
   "name": "python3"
  },
  "language_info": {
   "codemirror_mode": {
    "name": "ipython",
    "version": 3
   },
   "file_extension": ".py",
   "mimetype": "text/x-python",
   "name": "python",
   "nbconvert_exporter": "python",
   "pygments_lexer": "ipython3",
   "version": "3.6.4"
  }
 },
 "nbformat": 4,
 "nbformat_minor": 2
}
